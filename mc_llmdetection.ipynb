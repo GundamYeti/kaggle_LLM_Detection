{
 "cells": [
  {
   "cell_type": "code",
   "execution_count": 1,
   "id": "de692d24",
   "metadata": {
    "_cell_guid": "b1076dfc-b9ad-4769-8c92-a6c4dae69d19",
    "_uuid": "8f2839f25d086af736a60e9eeb907d3b93b6e0e5",
    "execution": {
     "iopub.execute_input": "2023-11-30T05:30:24.706766Z",
     "iopub.status.busy": "2023-11-30T05:30:24.706420Z",
     "iopub.status.idle": "2023-11-30T05:30:25.061149Z",
     "shell.execute_reply": "2023-11-30T05:30:25.059726Z"
    },
    "papermill": {
     "duration": 0.362708,
     "end_time": "2023-11-30T05:30:25.063680",
     "exception": false,
     "start_time": "2023-11-30T05:30:24.700972",
     "status": "completed"
    },
    "tags": []
   },
   "outputs": [
    {
     "name": "stdout",
     "output_type": "stream",
     "text": [
      "/kaggle/input/github-srchelper/LICENSE\n",
      "/kaggle/input/github-srchelper/mc_llmdetection.ipynb\n",
      "/kaggle/input/github-srchelper/README.md\n",
      "/kaggle/input/github-srchelper/src/helper-functions.py\n",
      "/kaggle/input/github-srchelper/src/helper-functions.ipynb\n",
      "/kaggle/input/llm-detect-ai-generated-text/sample_submission.csv\n",
      "/kaggle/input/llm-detect-ai-generated-text/train_prompts.csv\n",
      "/kaggle/input/llm-detect-ai-generated-text/test_essays.csv\n",
      "/kaggle/input/llm-detect-ai-generated-text/train_essays.csv\n"
     ]
    }
   ],
   "source": [
    "import numpy as np # linear algebra\n",
    "import pandas as pd # data processing, CSV file I/O (e.g. pd.read_csv)\n",
    "\n",
    "# Input data files are available in the read-only \"../input/\" directory\n",
    "# For example, running this (by clicking run or pressing Shift+Enter) will list all files under the input directory\n",
    "\n",
    "import os\n",
    "for dirname, _, filenames in os.walk('/kaggle/input'):\n",
    "    for filename in filenames:\n",
    "        print(os.path.join(dirname, filename))\n",
    "\n",
    "# You can write up to 20GB to the current directory (/kaggle/working/) that gets preserved as output when you create a version using \"Save & Run All\" \n",
    "# You can also write temporary files to /kaggle/temp/, but they won't be saved outside of the current session"
   ]
  },
  {
   "cell_type": "code",
   "execution_count": 2,
   "id": "0e3e2ff1",
   "metadata": {
    "execution": {
     "iopub.execute_input": "2023-11-30T05:30:25.077769Z",
     "iopub.status.busy": "2023-11-30T05:30:25.076771Z",
     "iopub.status.idle": "2023-11-30T05:30:25.199634Z",
     "shell.execute_reply": "2023-11-30T05:30:25.198086Z"
    },
    "papermill": {
     "duration": 0.131724,
     "end_time": "2023-11-30T05:30:25.202465",
     "exception": false,
     "start_time": "2023-11-30T05:30:25.070741",
     "status": "completed"
    },
    "tags": []
   },
   "outputs": [],
   "source": [
    "# Load Data\n",
    "sample_submission = pd.read_csv('/kaggle/input/llm-detect-ai-generated-text/sample_submission.csv')\n",
    "train_prompts = pd.read_csv('/kaggle/input/llm-detect-ai-generated-text/train_prompts.csv')\n",
    "test_essays = pd.read_csv('/kaggle/input/llm-detect-ai-generated-text/test_essays.csv')\n",
    "train_essays = pd.read_csv('/kaggle/input/llm-detect-ai-generated-text/train_essays.csv')"
   ]
  },
  {
   "cell_type": "code",
   "execution_count": 3,
   "id": "14faaef5",
   "metadata": {
    "execution": {
     "iopub.execute_input": "2023-11-30T05:30:25.215614Z",
     "iopub.status.busy": "2023-11-30T05:30:25.215209Z",
     "iopub.status.idle": "2023-11-30T05:30:25.223649Z",
     "shell.execute_reply": "2023-11-30T05:30:25.222801Z"
    },
    "papermill": {
     "duration": 0.016293,
     "end_time": "2023-11-30T05:30:25.225974",
     "exception": false,
     "start_time": "2023-11-30T05:30:25.209681",
     "status": "completed"
    },
    "tags": []
   },
   "outputs": [],
   "source": [
    "# Load any helper functions I decide to upload to the github\n",
    "%run /kaggle/input/github-srchelper/src/helper-functions.py"
   ]
  },
  {
   "cell_type": "code",
   "execution_count": 4,
   "id": "565f868f",
   "metadata": {
    "execution": {
     "iopub.execute_input": "2023-11-30T05:30:25.235524Z",
     "iopub.status.busy": "2023-11-30T05:30:25.234760Z",
     "iopub.status.idle": "2023-11-30T05:30:25.256677Z",
     "shell.execute_reply": "2023-11-30T05:30:25.255825Z"
    },
    "papermill": {
     "duration": 0.028841,
     "end_time": "2023-11-30T05:30:25.259020",
     "exception": false,
     "start_time": "2023-11-30T05:30:25.230179",
     "status": "completed"
    },
    "tags": []
   },
   "outputs": [
    {
     "name": "stdout",
     "output_type": "stream",
     "text": [
      "(3, 2)\n",
      "         id  generated\n",
      "0  0000aaaa        0.1\n",
      "1  1111bbbb        0.9\n",
      "2  2222cccc        0.4\n"
     ]
    }
   ],
   "source": [
    "df_desc(sample_submission,10)"
   ]
  },
  {
   "cell_type": "code",
   "execution_count": 5,
   "id": "5185f25d",
   "metadata": {
    "execution": {
     "iopub.execute_input": "2023-11-30T05:30:25.268825Z",
     "iopub.status.busy": "2023-11-30T05:30:25.267860Z",
     "iopub.status.idle": "2023-11-30T05:30:25.279461Z",
     "shell.execute_reply": "2023-11-30T05:30:25.278478Z"
    },
    "papermill": {
     "duration": 0.019449,
     "end_time": "2023-11-30T05:30:25.282241",
     "exception": false,
     "start_time": "2023-11-30T05:30:25.262792",
     "status": "completed"
    },
    "tags": []
   },
   "outputs": [
    {
     "name": "stdout",
     "output_type": "stream",
     "text": [
      "(2, 4)\n",
      "   prompt_id                       prompt_name  \\\n",
      "0          0                   Car-free cities   \n",
      "1          1  Does the electoral college work?   \n",
      "\n",
      "                                        instructions  \\\n",
      "0  Write an explanatory essay to inform fellow ci...   \n",
      "1  Write a letter to your state senator in which ...   \n",
      "\n",
      "                                         source_text  \n",
      "0  # In German Suburb, Life Goes On Without Cars ...  \n",
      "1  # What Is the Electoral College? by the Office...  \n"
     ]
    }
   ],
   "source": [
    "df_desc(train_prompts) "
   ]
  },
  {
   "cell_type": "code",
   "execution_count": 6,
   "id": "3d3458f6",
   "metadata": {
    "execution": {
     "iopub.execute_input": "2023-11-30T05:30:25.292552Z",
     "iopub.status.busy": "2023-11-30T05:30:25.292189Z",
     "iopub.status.idle": "2023-11-30T05:30:25.300305Z",
     "shell.execute_reply": "2023-11-30T05:30:25.298896Z"
    },
    "papermill": {
     "duration": 0.015915,
     "end_time": "2023-11-30T05:30:25.302791",
     "exception": false,
     "start_time": "2023-11-30T05:30:25.286876",
     "status": "completed"
    },
    "tags": []
   },
   "outputs": [
    {
     "name": "stdout",
     "output_type": "stream",
     "text": [
      "(3, 3)\n",
      "         id  prompt_id          text\n",
      "0  0000aaaa          2  Aaa bbb ccc.\n",
      "1  1111bbbb          3  Bbb ccc ddd.\n",
      "2  2222cccc          4  CCC ddd eee.\n"
     ]
    }
   ],
   "source": [
    "df_desc(test_essays)"
   ]
  },
  {
   "cell_type": "code",
   "execution_count": 7,
   "id": "30e3a280",
   "metadata": {
    "execution": {
     "iopub.execute_input": "2023-11-30T05:30:25.311692Z",
     "iopub.status.busy": "2023-11-30T05:30:25.311227Z",
     "iopub.status.idle": "2023-11-30T05:30:25.320829Z",
     "shell.execute_reply": "2023-11-30T05:30:25.319138Z"
    },
    "papermill": {
     "duration": 0.017974,
     "end_time": "2023-11-30T05:30:25.324182",
     "exception": false,
     "start_time": "2023-11-30T05:30:25.306208",
     "status": "completed"
    },
    "tags": []
   },
   "outputs": [
    {
     "name": "stdout",
     "output_type": "stream",
     "text": [
      "(1378, 4)\n",
      "         id  prompt_id                                               text  \\\n",
      "0  0059830c          0  Cars. Cars have been around since they became ...   \n",
      "1  005db917          0  Transportation is a large necessity in most co...   \n",
      "2  008f63e3          0  \"America's love affair with it's vehicles seem...   \n",
      "3  00940276          0  How often do you ride in a car? Do you drive a...   \n",
      "4  00c39458          0  Cars are a wonderful thing. They are perhaps o...   \n",
      "\n",
      "   generated  \n",
      "0          0  \n",
      "1          0  \n",
      "2          0  \n",
      "3          0  \n",
      "4          0  \n"
     ]
    }
   ],
   "source": [
    "df_desc(train_essays)"
   ]
  },
  {
   "cell_type": "code",
   "execution_count": 8,
   "id": "01a81e87",
   "metadata": {
    "execution": {
     "iopub.execute_input": "2023-11-30T05:30:25.333991Z",
     "iopub.status.busy": "2023-11-30T05:30:25.333011Z",
     "iopub.status.idle": "2023-11-30T05:30:25.345295Z",
     "shell.execute_reply": "2023-11-30T05:30:25.344572Z"
    },
    "papermill": {
     "duration": 0.020694,
     "end_time": "2023-11-30T05:30:25.348940",
     "exception": false,
     "start_time": "2023-11-30T05:30:25.328246",
     "status": "completed"
    },
    "tags": []
   },
   "outputs": [
    {
     "name": "stdout",
     "output_type": "stream",
     "text": [
      "prompt_id : [0 1]\n",
      "generated : [0 1]\n"
     ]
    }
   ],
   "source": [
    "# Check Exact Values\n",
    "print(\"prompt_id :\", train_essays['prompt_id'].unique())\n",
    "print(\"generated :\", train_essays['generated'].unique())"
   ]
  },
  {
   "cell_type": "code",
   "execution_count": 9,
   "id": "0b04a513",
   "metadata": {
    "execution": {
     "iopub.execute_input": "2023-11-30T05:30:25.360071Z",
     "iopub.status.busy": "2023-11-30T05:30:25.359609Z",
     "iopub.status.idle": "2023-11-30T05:30:25.377146Z",
     "shell.execute_reply": "2023-11-30T05:30:25.376375Z"
    },
    "papermill": {
     "duration": 0.026287,
     "end_time": "2023-11-30T05:30:25.379899",
     "exception": false,
     "start_time": "2023-11-30T05:30:25.353612",
     "status": "completed"
    },
    "tags": []
   },
   "outputs": [
    {
     "name": "stdout",
     "output_type": "stream",
     "text": [
      "prompt_id\n",
      "0    0.513788\n",
      "1    0.486212\n",
      "Name: id, dtype: float64\n",
      "generated\n",
      "0    0.997823\n",
      "1    0.002177\n",
      "Name: id, dtype: float64\n"
     ]
    }
   ],
   "source": [
    "# What percentage of each is 0 or q?\n",
    "\n",
    "print(train_essays.groupby('prompt_id').id.nunique()/train_essays.shape[0])\n",
    "\n",
    "print(train_essays.groupby('generated').id.nunique()/train_essays.shape[0])"
   ]
  },
  {
   "cell_type": "code",
   "execution_count": null,
   "id": "63ca35d4",
   "metadata": {
    "papermill": {
     "duration": 0.005256,
     "end_time": "2023-11-30T05:30:25.389763",
     "exception": false,
     "start_time": "2023-11-30T05:30:25.384507",
     "status": "completed"
    },
    "tags": []
   },
   "outputs": [],
   "source": []
  }
 ],
 "metadata": {
  "kaggle": {
   "accelerator": "none",
   "dataSources": [
    {
     "databundleVersionId": 6888007,
     "sourceId": 61542,
     "sourceType": "competition"
    },
    {
     "datasetId": 4083706,
     "sourceId": 7087549,
     "sourceType": "datasetVersion"
    }
   ],
   "dockerImageVersionId": 30587,
   "isGpuEnabled": false,
   "isInternetEnabled": true,
   "language": "python",
   "sourceType": "notebook"
  },
  "kernelspec": {
   "display_name": "Python 3",
   "language": "python",
   "name": "python3"
  },
  "language_info": {
   "codemirror_mode": {
    "name": "ipython",
    "version": 3
   },
   "file_extension": ".py",
   "mimetype": "text/x-python",
   "name": "python",
   "nbconvert_exporter": "python",
   "pygments_lexer": "ipython3",
   "version": "3.10.12"
  },
  "papermill": {
   "default_parameters": {},
   "duration": 4.16809,
   "end_time": "2023-11-30T05:30:25.916974",
   "environment_variables": {},
   "exception": null,
   "input_path": "__notebook__.ipynb",
   "output_path": "__notebook__.ipynb",
   "parameters": {},
   "start_time": "2023-11-30T05:30:21.748884",
   "version": "2.4.0"
  }
 },
 "nbformat": 4,
 "nbformat_minor": 5
}
