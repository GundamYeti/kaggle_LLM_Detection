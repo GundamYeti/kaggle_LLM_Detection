{
 "cells": [
  {
   "cell_type": "code",
   "execution_count": 1,
   "id": "cfdee1d7",
   "metadata": {
    "_cell_guid": "b1076dfc-b9ad-4769-8c92-a6c4dae69d19",
    "_uuid": "8f2839f25d086af736a60e9eeb907d3b93b6e0e5",
    "execution": {
     "iopub.execute_input": "2023-11-30T05:12:46.571843Z",
     "iopub.status.busy": "2023-11-30T05:12:46.570564Z",
     "iopub.status.idle": "2023-11-30T05:12:47.008889Z",
     "shell.execute_reply": "2023-11-30T05:12:47.006759Z"
    },
    "papermill": {
     "duration": 0.446195,
     "end_time": "2023-11-30T05:12:47.011660",
     "exception": false,
     "start_time": "2023-11-30T05:12:46.565465",
     "status": "completed"
    },
    "tags": []
   },
   "outputs": [
    {
     "name": "stdout",
     "output_type": "stream",
     "text": [
      "/kaggle/input/github-srchelper/LICENSE\n",
      "/kaggle/input/github-srchelper/mc_llmdetection.ipynb\n",
      "/kaggle/input/github-srchelper/README.md\n",
      "/kaggle/input/github-srchelper/src/helper-functions.py\n",
      "/kaggle/input/github-srchelper/src/helper-functions.ipynb\n",
      "/kaggle/input/llm-detect-ai-generated-text/sample_submission.csv\n",
      "/kaggle/input/llm-detect-ai-generated-text/train_prompts.csv\n",
      "/kaggle/input/llm-detect-ai-generated-text/test_essays.csv\n",
      "/kaggle/input/llm-detect-ai-generated-text/train_essays.csv\n"
     ]
    }
   ],
   "source": [
    "# This Python 3 environment comes with many helpful analytics libraries installed\n",
    "# It is defined by the kaggle/python Docker image: https://github.com/kaggle/docker-python\n",
    "# For example, here's several helpful packages to load\n",
    "\n",
    "import numpy as np # linear algebra\n",
    "import pandas as pd # data processing, CSV file I/O (e.g. pd.read_csv)\n",
    "\n",
    "# Input data files are available in the read-only \"../input/\" directory\n",
    "# For example, running this (by clicking run or pressing Shift+Enter) will list all files under the input directory\n",
    "\n",
    "import os\n",
    "for dirname, _, filenames in os.walk('/kaggle/input'):\n",
    "    for filename in filenames:\n",
    "        print(os.path.join(dirname, filename))\n",
    "\n",
    "# You can write up to 20GB to the current directory (/kaggle/working/) that gets preserved as output when you create a version using \"Save & Run All\" \n",
    "# You can also write temporary files to /kaggle/temp/, but they won't be saved outside of the current session"
   ]
  },
  {
   "cell_type": "code",
   "execution_count": 2,
   "id": "b129f35d",
   "metadata": {
    "execution": {
     "iopub.execute_input": "2023-11-30T05:12:47.021479Z",
     "iopub.status.busy": "2023-11-30T05:12:47.020912Z",
     "iopub.status.idle": "2023-11-30T05:12:47.150254Z",
     "shell.execute_reply": "2023-11-30T05:12:47.148708Z"
    },
    "papermill": {
     "duration": 0.137083,
     "end_time": "2023-11-30T05:12:47.153881",
     "exception": false,
     "start_time": "2023-11-30T05:12:47.016798",
     "status": "completed"
    },
    "tags": []
   },
   "outputs": [],
   "source": [
    "sample_submission = pd.read_csv('/kaggle/input/llm-detect-ai-generated-text/sample_submission.csv')\n",
    "train_prompts = pd.read_csv('/kaggle/input/llm-detect-ai-generated-text/train_prompts.csv')\n",
    "test_essays = pd.read_csv('/kaggle/input/llm-detect-ai-generated-text/test_essays.csv')\n",
    "train_essays = pd.read_csv('/kaggle/input/llm-detect-ai-generated-text/train_essays.csv')"
   ]
  },
  {
   "cell_type": "code",
   "execution_count": 3,
   "id": "4421bb41",
   "metadata": {
    "execution": {
     "iopub.execute_input": "2023-11-30T05:12:47.162831Z",
     "iopub.status.busy": "2023-11-30T05:12:47.161357Z",
     "iopub.status.idle": "2023-11-30T05:12:47.171894Z",
     "shell.execute_reply": "2023-11-30T05:12:47.170635Z"
    },
    "papermill": {
     "duration": 0.01763,
     "end_time": "2023-11-30T05:12:47.174751",
     "exception": false,
     "start_time": "2023-11-30T05:12:47.157121",
     "status": "completed"
    },
    "tags": []
   },
   "outputs": [],
   "source": [
    "%run /kaggle/input/github-srchelper/src/helper-functions.py"
   ]
  },
  {
   "cell_type": "code",
   "execution_count": 4,
   "id": "7c7a2da8",
   "metadata": {
    "execution": {
     "iopub.execute_input": "2023-11-30T05:12:47.182002Z",
     "iopub.status.busy": "2023-11-30T05:12:47.181601Z",
     "iopub.status.idle": "2023-11-30T05:12:47.202606Z",
     "shell.execute_reply": "2023-11-30T05:12:47.201674Z"
    },
    "papermill": {
     "duration": 0.028076,
     "end_time": "2023-11-30T05:12:47.205569",
     "exception": false,
     "start_time": "2023-11-30T05:12:47.177493",
     "status": "completed"
    },
    "tags": []
   },
   "outputs": [
    {
     "name": "stdout",
     "output_type": "stream",
     "text": [
      "(3, 2)\n",
      "         id  generated\n",
      "0  0000aaaa        0.1\n",
      "1  1111bbbb        0.9\n",
      "2  2222cccc        0.4\n"
     ]
    }
   ],
   "source": [
    "df_desc(sample_submission)"
   ]
  },
  {
   "cell_type": "code",
   "execution_count": null,
   "id": "1d3445e2",
   "metadata": {
    "papermill": {
     "duration": 0.002762,
     "end_time": "2023-11-30T05:12:47.211452",
     "exception": false,
     "start_time": "2023-11-30T05:12:47.208690",
     "status": "completed"
    },
    "tags": []
   },
   "outputs": [],
   "source": []
  },
  {
   "cell_type": "code",
   "execution_count": null,
   "id": "de76b668",
   "metadata": {
    "papermill": {
     "duration": 0.002609,
     "end_time": "2023-11-30T05:12:47.217088",
     "exception": false,
     "start_time": "2023-11-30T05:12:47.214479",
     "status": "completed"
    },
    "tags": []
   },
   "outputs": [],
   "source": []
  }
 ],
 "metadata": {
  "kaggle": {
   "accelerator": "none",
   "dataSources": [
    {
     "databundleVersionId": 6888007,
     "sourceId": 61542,
     "sourceType": "competition"
    },
    {
     "datasetId": 4083706,
     "sourceId": 7087549,
     "sourceType": "datasetVersion"
    }
   ],
   "dockerImageVersionId": 30587,
   "isGpuEnabled": false,
   "isInternetEnabled": true,
   "language": "python",
   "sourceType": "notebook"
  },
  "kernelspec": {
   "display_name": "Python 3",
   "language": "python",
   "name": "python3"
  },
  "language_info": {
   "codemirror_mode": {
    "name": "ipython",
    "version": 3
   },
   "file_extension": ".py",
   "mimetype": "text/x-python",
   "name": "python",
   "nbconvert_exporter": "python",
   "pygments_lexer": "ipython3",
   "version": "3.10.12"
  },
  "papermill": {
   "default_parameters": {},
   "duration": 4.629351,
   "end_time": "2023-11-30T05:12:47.745919",
   "environment_variables": {},
   "exception": null,
   "input_path": "__notebook__.ipynb",
   "output_path": "__notebook__.ipynb",
   "parameters": {},
   "start_time": "2023-11-30T05:12:43.116568",
   "version": "2.4.0"
  }
 },
 "nbformat": 4,
 "nbformat_minor": 5
}
