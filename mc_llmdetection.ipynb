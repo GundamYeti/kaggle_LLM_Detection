{
 "cells": [
  {
   "cell_type": "code",
   "execution_count": 1,
   "id": "975088be",
   "metadata": {
    "_cell_guid": "b1076dfc-b9ad-4769-8c92-a6c4dae69d19",
    "_uuid": "8f2839f25d086af736a60e9eeb907d3b93b6e0e5",
    "execution": {
     "iopub.execute_input": "2023-11-30T00:02:08.264705Z",
     "iopub.status.busy": "2023-11-30T00:02:08.264231Z",
     "iopub.status.idle": "2023-11-30T00:02:08.662382Z",
     "shell.execute_reply": "2023-11-30T00:02:08.660720Z"
    },
    "papermill": {
     "duration": 0.40678,
     "end_time": "2023-11-30T00:02:08.666083",
     "exception": false,
     "start_time": "2023-11-30T00:02:08.259303",
     "status": "completed"
    },
    "tags": []
   },
   "outputs": [
    {
     "name": "stdout",
     "output_type": "stream",
     "text": [
      "/kaggle/input/llm-detect-ai-generated-text/sample_submission.csv\n",
      "/kaggle/input/llm-detect-ai-generated-text/train_prompts.csv\n",
      "/kaggle/input/llm-detect-ai-generated-text/test_essays.csv\n",
      "/kaggle/input/llm-detect-ai-generated-text/train_essays.csv\n"
     ]
    }
   ],
   "source": [
    "# This Python 3 environment comes with many helpful analytics libraries installed\n",
    "# It is defined by the kaggle/python Docker image: https://github.com/kaggle/docker-python\n",
    "# For example, here's several helpful packages to load\n",
    "\n",
    "import numpy as np # linear algebra\n",
    "import pandas as pd # data processing, CSV file I/O (e.g. pd.read_csv)\n",
    "\n",
    "# Input data files are available in the read-only \"../input/\" directory\n",
    "# For example, running this (by clicking run or pressing Shift+Enter) will list all files under the input directory\n",
    "\n",
    "import os\n",
    "for dirname, _, filenames in os.walk('/kaggle/input'):\n",
    "    for filename in filenames:\n",
    "        print(os.path.join(dirname, filename))\n",
    "\n",
    "# You can write up to 20GB to the current directory (/kaggle/working/) that gets preserved as output when you create a version using \"Save & Run All\" \n",
    "# You can also write temporary files to /kaggle/temp/, but they won't be saved outside of the current session"
   ]
  },
  {
   "cell_type": "code",
   "execution_count": 2,
   "id": "5738024d",
   "metadata": {
    "execution": {
     "iopub.execute_input": "2023-11-30T00:02:08.676145Z",
     "iopub.status.busy": "2023-11-30T00:02:08.675638Z",
     "iopub.status.idle": "2023-11-30T00:02:08.800614Z",
     "shell.execute_reply": "2023-11-30T00:02:08.799457Z"
    },
    "papermill": {
     "duration": 0.131774,
     "end_time": "2023-11-30T00:02:08.803233",
     "exception": false,
     "start_time": "2023-11-30T00:02:08.671459",
     "status": "completed"
    },
    "tags": []
   },
   "outputs": [],
   "source": [
    "sample_submission = pd.read_csv('/kaggle/input/llm-detect-ai-generated-text/sample_submission.csv')\n",
    "train_prompts = pd.read_csv('/kaggle/input/llm-detect-ai-generated-text/train_prompts.csv')\n",
    "test_essays = pd.read_csv('/kaggle/input/llm-detect-ai-generated-text/test_essays.csv')\n",
    "train_essays = pd.read_csv('/kaggle/input/llm-detect-ai-generated-text/train_essays.csv')"
   ]
  },
  {
   "cell_type": "code",
   "execution_count": null,
   "id": "ce8ee6e7",
   "metadata": {
    "papermill": {
     "duration": 0.002117,
     "end_time": "2023-11-30T00:02:08.807912",
     "exception": false,
     "start_time": "2023-11-30T00:02:08.805795",
     "status": "completed"
    },
    "tags": []
   },
   "outputs": [],
   "source": []
  },
  {
   "cell_type": "code",
   "execution_count": null,
   "id": "bc249848",
   "metadata": {
    "papermill": {
     "duration": 0.001998,
     "end_time": "2023-11-30T00:02:08.812195",
     "exception": false,
     "start_time": "2023-11-30T00:02:08.810197",
     "status": "completed"
    },
    "tags": []
   },
   "outputs": [],
   "source": []
  },
  {
   "cell_type": "code",
   "execution_count": null,
   "id": "d8c2ed09",
   "metadata": {
    "papermill": {
     "duration": 0.002005,
     "end_time": "2023-11-30T00:02:08.816438",
     "exception": false,
     "start_time": "2023-11-30T00:02:08.814433",
     "status": "completed"
    },
    "tags": []
   },
   "outputs": [],
   "source": []
  },
  {
   "cell_type": "code",
   "execution_count": null,
   "id": "70a31211",
   "metadata": {
    "papermill": {
     "duration": 0.002059,
     "end_time": "2023-11-30T00:02:08.820695",
     "exception": false,
     "start_time": "2023-11-30T00:02:08.818636",
     "status": "completed"
    },
    "tags": []
   },
   "outputs": [],
   "source": []
  }
 ],
 "metadata": {
  "kaggle": {
   "accelerator": "none",
   "dataSources": [
    {
     "databundleVersionId": 6888007,
     "sourceId": 61542,
     "sourceType": "competition"
    }
   ],
   "dockerImageVersionId": 30587,
   "isGpuEnabled": false,
   "isInternetEnabled": true,
   "language": "python",
   "sourceType": "notebook"
  },
  "kernelspec": {
   "display_name": "Python 3",
   "language": "python",
   "name": "python3"
  },
  "language_info": {
   "codemirror_mode": {
    "name": "ipython",
    "version": 3
   },
   "file_extension": ".py",
   "mimetype": "text/x-python",
   "name": "python",
   "nbconvert_exporter": "python",
   "pygments_lexer": "ipython3",
   "version": "3.10.12"
  },
  "papermill": {
   "default_parameters": {},
   "duration": 4.148435,
   "end_time": "2023-11-30T00:02:09.343501",
   "environment_variables": {},
   "exception": null,
   "input_path": "__notebook__.ipynb",
   "output_path": "__notebook__.ipynb",
   "parameters": {},
   "start_time": "2023-11-30T00:02:05.195066",
   "version": "2.4.0"
  }
 },
 "nbformat": 4,
 "nbformat_minor": 5
}
