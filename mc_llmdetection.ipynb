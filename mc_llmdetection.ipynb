{
 "cells": [
  {
   "cell_type": "code",
   "execution_count": 1,
   "id": "edf5703a",
   "metadata": {
    "_cell_guid": "b1076dfc-b9ad-4769-8c92-a6c4dae69d19",
    "_uuid": "8f2839f25d086af736a60e9eeb907d3b93b6e0e5",
    "execution": {
     "iopub.execute_input": "2023-12-03T04:23:56.767088Z",
     "iopub.status.busy": "2023-12-03T04:23:56.766654Z",
     "iopub.status.idle": "2023-12-03T04:23:59.228471Z",
     "shell.execute_reply": "2023-12-03T04:23:59.227328Z"
    },
    "papermill": {
     "duration": 2.473085,
     "end_time": "2023-12-03T04:23:59.231164",
     "exception": false,
     "start_time": "2023-12-03T04:23:56.758079",
     "status": "completed"
    },
    "tags": []
   },
   "outputs": [
    {
     "name": "stdout",
     "output_type": "stream",
     "text": [
      "/kaggle/input/github-srchelper/LICENSE\n",
      "/kaggle/input/github-srchelper/mc_llmdetection.ipynb\n",
      "/kaggle/input/github-srchelper/README.md\n",
      "/kaggle/input/github-srchelper/src/helper-functions.py\n",
      "/kaggle/input/github-srchelper/src/helper-functions.ipynb\n",
      "/kaggle/input/llm-detect-ai-generated-text/sample_submission.csv\n",
      "/kaggle/input/llm-detect-ai-generated-text/train_prompts.csv\n",
      "/kaggle/input/llm-detect-ai-generated-text/test_essays.csv\n",
      "/kaggle/input/llm-detect-ai-generated-text/train_essays.csv\n"
     ]
    }
   ],
   "source": [
    "import numpy as np # linear algebra\n",
    "import pandas as pd # data processing, CSV file I/O (e.g. pd.read_csv)\n",
    "import nltk\n",
    "\n",
    "# Input data files are available in the read-only \"../input/\" directory\n",
    "# For example, running this (by clicking run or pressing Shift+Enter) will list all files under the input directory\n",
    "\n",
    "import os\n",
    "for dirname, _, filenames in os.walk('/kaggle/input'):\n",
    "    for filename in filenames:\n",
    "        print(os.path.join(dirname, filename))\n",
    "\n",
    "# You can write up to 20GB to the current directory (/kaggle/working/) that gets preserved as output when you create a version using \"Save & Run All\" \n",
    "# You can also write temporary files to /kaggle/temp/, but they won't be saved outside of the current session"
   ]
  },
  {
   "cell_type": "code",
   "execution_count": 2,
   "id": "dd6bcbe9",
   "metadata": {
    "execution": {
     "iopub.execute_input": "2023-12-03T04:23:59.248270Z",
     "iopub.status.busy": "2023-12-03T04:23:59.247198Z",
     "iopub.status.idle": "2023-12-03T04:23:59.377804Z",
     "shell.execute_reply": "2023-12-03T04:23:59.376543Z"
    },
    "papermill": {
     "duration": 0.141254,
     "end_time": "2023-12-03T04:23:59.380768",
     "exception": false,
     "start_time": "2023-12-03T04:23:59.239514",
     "status": "completed"
    },
    "tags": []
   },
   "outputs": [],
   "source": [
    "# Load Data\n",
    "sample_submission = pd.read_csv('/kaggle/input/llm-detect-ai-generated-text/sample_submission.csv')\n",
    "train_prompts = pd.read_csv('/kaggle/input/llm-detect-ai-generated-text/train_prompts.csv')\n",
    "test_essays = pd.read_csv('/kaggle/input/llm-detect-ai-generated-text/test_essays.csv')\n",
    "train_essays = pd.read_csv('/kaggle/input/llm-detect-ai-generated-text/train_essays.csv')"
   ]
  },
  {
   "cell_type": "code",
   "execution_count": 3,
   "id": "32c2ca82",
   "metadata": {
    "execution": {
     "iopub.execute_input": "2023-12-03T04:23:59.396179Z",
     "iopub.status.busy": "2023-12-03T04:23:59.395149Z",
     "iopub.status.idle": "2023-12-03T04:23:59.404158Z",
     "shell.execute_reply": "2023-12-03T04:23:59.403238Z"
    },
    "papermill": {
     "duration": 0.019199,
     "end_time": "2023-12-03T04:23:59.406538",
     "exception": false,
     "start_time": "2023-12-03T04:23:59.387339",
     "status": "completed"
    },
    "tags": []
   },
   "outputs": [],
   "source": [
    "# Load any helper functions I decide to upload to the github\n",
    "%run /kaggle/input/github-srchelper/src/helper-functions.py"
   ]
  },
  {
   "cell_type": "code",
   "execution_count": 4,
   "id": "843d06c7",
   "metadata": {
    "execution": {
     "iopub.execute_input": "2023-12-03T04:23:59.421763Z",
     "iopub.status.busy": "2023-12-03T04:23:59.421332Z",
     "iopub.status.idle": "2023-12-03T04:23:59.438992Z",
     "shell.execute_reply": "2023-12-03T04:23:59.437902Z"
    },
    "papermill": {
     "duration": 0.028317,
     "end_time": "2023-12-03T04:23:59.441350",
     "exception": false,
     "start_time": "2023-12-03T04:23:59.413033",
     "status": "completed"
    },
    "tags": []
   },
   "outputs": [
    {
     "name": "stdout",
     "output_type": "stream",
     "text": [
      "(3, 2)\n",
      "         id  generated\n",
      "0  0000aaaa        0.1\n",
      "1  1111bbbb        0.9\n",
      "2  2222cccc        0.4\n"
     ]
    }
   ],
   "source": [
    "df_desc(sample_submission,10)"
   ]
  },
  {
   "cell_type": "code",
   "execution_count": 5,
   "id": "b12c0edc",
   "metadata": {
    "execution": {
     "iopub.execute_input": "2023-12-03T04:23:59.456437Z",
     "iopub.status.busy": "2023-12-03T04:23:59.455967Z",
     "iopub.status.idle": "2023-12-03T04:23:59.463311Z",
     "shell.execute_reply": "2023-12-03T04:23:59.462351Z"
    },
    "papermill": {
     "duration": 0.017729,
     "end_time": "2023-12-03T04:23:59.465617",
     "exception": false,
     "start_time": "2023-12-03T04:23:59.447888",
     "status": "completed"
    },
    "tags": []
   },
   "outputs": [
    {
     "name": "stdout",
     "output_type": "stream",
     "text": [
      "(2, 4)\n",
      "   prompt_id                       prompt_name  \\\n",
      "0          0                   Car-free cities   \n",
      "1          1  Does the electoral college work?   \n",
      "\n",
      "                                        instructions  \\\n",
      "0  Write an explanatory essay to inform fellow ci...   \n",
      "1  Write a letter to your state senator in which ...   \n",
      "\n",
      "                                         source_text  \n",
      "0  # In German Suburb, Life Goes On Without Cars ...  \n",
      "1  # What Is the Electoral College? by the Office...  \n"
     ]
    }
   ],
   "source": [
    "df_desc(train_prompts) "
   ]
  },
  {
   "cell_type": "code",
   "execution_count": 6,
   "id": "c23a48d0",
   "metadata": {
    "execution": {
     "iopub.execute_input": "2023-12-03T04:23:59.481054Z",
     "iopub.status.busy": "2023-12-03T04:23:59.480456Z",
     "iopub.status.idle": "2023-12-03T04:23:59.492444Z",
     "shell.execute_reply": "2023-12-03T04:23:59.491016Z"
    },
    "papermill": {
     "duration": 0.022305,
     "end_time": "2023-12-03T04:23:59.494682",
     "exception": false,
     "start_time": "2023-12-03T04:23:59.472377",
     "status": "completed"
    },
    "tags": []
   },
   "outputs": [
    {
     "name": "stdout",
     "output_type": "stream",
     "text": [
      "prompt_id : [0 1]\n",
      "generated : [0 1]\n"
     ]
    }
   ],
   "source": [
    "# Check Exact Values\n",
    "print(\"prompt_id :\", train_essays['prompt_id'].unique())\n",
    "print(\"generated :\", train_essays['generated'].unique())"
   ]
  },
  {
   "cell_type": "code",
   "execution_count": 7,
   "id": "5135adb5",
   "metadata": {
    "execution": {
     "iopub.execute_input": "2023-12-03T04:23:59.510976Z",
     "iopub.status.busy": "2023-12-03T04:23:59.510036Z",
     "iopub.status.idle": "2023-12-03T04:23:59.516548Z",
     "shell.execute_reply": "2023-12-03T04:23:59.515213Z"
    },
    "papermill": {
     "duration": 0.017287,
     "end_time": "2023-12-03T04:23:59.518903",
     "exception": false,
     "start_time": "2023-12-03T04:23:59.501616",
     "status": "completed"
    },
    "tags": []
   },
   "outputs": [
    {
     "name": "stdout",
     "output_type": "stream",
     "text": [
      "0\n",
      "Write an explanatory essay to inform fellow citizens about the advantages of limiting car usage. Your essay must be based on ideas and information that can be found in the passage set. Manage your time carefully so that you can read the passages; plan your response; write your response; and revise and edit your response. Be sure to use evidence from multiple sources; and avoid overly relying on one source. Your response should be in the form of a multiparagraph essay. Write your essay in the space provided.\n",
      "1\n",
      "Write a letter to your state senator in which you argue in favor of keeping the Electoral College or changing to election by popular vote for the president of the United States. Use the information from the texts in your essay. Manage your time carefully so that you can read the passages; plan your response; write your response; and revise and edit your response. Be sure to include a claim; address counterclaims; use evidence from multiple sources; and avoid overly relying on one source. Your response should be in the form of a multiparagraph essay. Write your response in the space provided.\n"
     ]
    }
   ],
   "source": [
    "print(0)\n",
    "print(train_prompts['instructions'][0])\n",
    "print(1)\n",
    "print(train_prompts['instructions'][1])"
   ]
  },
  {
   "cell_type": "code",
   "execution_count": 8,
   "id": "043853d3",
   "metadata": {
    "execution": {
     "iopub.execute_input": "2023-12-03T04:23:59.535238Z",
     "iopub.status.busy": "2023-12-03T04:23:59.534135Z",
     "iopub.status.idle": "2023-12-03T04:23:59.540915Z",
     "shell.execute_reply": "2023-12-03T04:23:59.540011Z"
    },
    "papermill": {
     "duration": 0.018848,
     "end_time": "2023-12-03T04:23:59.544811",
     "exception": false,
     "start_time": "2023-12-03T04:23:59.525963",
     "status": "completed"
    },
    "tags": []
   },
   "outputs": [
    {
     "name": "stdout",
     "output_type": "stream",
     "text": [
      "0\n",
      "# In German Suburb, Life Goes On Without Cars by Elisabeth Rosenthal\n",
      "\n",
      "1 VAUBAN, Germany—Residents of this upscale community are suburban pioneers, going where few soccer moms or commuting executives have ever gone before: they have given up their cars.\n",
      "\n",
      "2 Street parking, driveways and home garages are generally forbidden in this experimental new district on the outskirts of Freiburg, near the French and Swiss borders. Vauban’s streets are completely “car-free”—except the main thoroughfare, where the tram to downtown Freiburg runs, and a few streets on one edge of the community. Car ownership is allowed, but there are only two places to park—large garages at the edge of the development, where a car-owner buys a space, for $40,000, along with a home.\n",
      "\n",
      "3 As a result, 70 percent of Vauban’s families do not own cars, and 57 percent sold a car to move here. “When I had a car I was always tense. I’m much happier this way,” said Heidrun Walter, a media trainer and mother of two, as she walked verdant streets where the swish of bicycles and the chatter of wandering children drown out the occasional distant motor.\n",
      "\n",
      "4 Vauban, completed in 2006, is an example of a growing trend in Europe, the United States and elsewhere to separate suburban life from auto use, as a component of a movement called “smart planning.”\n",
      "\n",
      "5 Automobiles are the linchpin of suburbs, where middle-class families from Chicago to Shanghai tend to make their homes. And that, experts say, is a huge impediment to current efforts to drastically reduce greenhouse gas emissions from tailpipes . . . . Passenger cars are responsible for 12 percent of greenhouse gas emissions in Europe . . . and up to 50 percent in some car-intensive areas in the United States.\n",
      "\n",
      "6 While there have been efforts in the past two decades to make cities denser, and better for walking, planners are now taking the concept to the suburbs . . . . Vauban, home to 5,500 residents within a rectangular square mile, may be the most advanced experiment in low-car suburban life. But its basic precepts are being adopted around the world in attempts to make suburbs more compact and more accessible to public transportation, with less space for parking. In this new approach, stores are placed a walk away, on a main street, rather than in malls along some distant highway.\n",
      "\n",
      "7 “All of our development since World War II has been centered on the car, and that will have to change,” said David Goldberg, an official of Transportation for America, a fast-growing coalition of hundreds of groups in the United States . . . who are promoting new communities that are less dependent on cars. Mr. Goldberg added: “How much you drive is as important as whether you have a hybrid.”\n",
      "\n",
      "8 Levittown and Scarsdale, New York suburbs with spread-out homes and private garages, were the dream towns of the 1950s and still exert a strong appeal. But some new suburbs may well look more Vauban-like, not only in developed countries but also in the developing world, where emissions from an increasing number of private cars owned by the burgeoning middle class are choking cities.\n",
      "\n",
      "9 In the United States, the Environmental Protection Agency is promoting “car reduced” communities, and legislators are starting to act, if cautiously. Many experts expect public transport serving suburbs to play a much larger role in a new six-year federal transportation bill to be approved this year, Mr. Goldberg said. In previous bills, 80 percent of appropriations have by law gone to highways and only 20 percent to other transport. \n",
      "\n",
      "Excerpt from “In German Suburb, Life Goes On Without Cars” by Elisabeth Rosenthal, from the New York Times. Copyright © 2009 by the New York Times Company. Reprinted by permission of the New York Times Company via Copyright Clearance Center.\n",
      "\n",
      "# Paris bans driving due to smog by Robert Duffer\n",
      "\n",
      "10 After days of near-record pollution, Paris enforced a partial driving ban to clear the air of the global city.\n",
      "\n",
      "11 On Monday motorists with even-numbered license plates were ordered to leave their cars at home or suffer a 22-euro fine ($31). The same would apply to odd-numbered plates the following day.\n",
      "\n",
      "12 Almost 4,000 drivers were fined, according to Reuters1 . . . [Twenty-seven] people had their cars impounded for their reaction to the fine.\n",
      "\n",
      "13 That’s easier to imagine than a car-free Champs-Elysees.2\n",
      "\n",
      "14 Congestion 3 was down 60 percent in the capital of France, after five-days of intensifying smog . . . [The smog] rivaled Beijing, China, which is known as one of the most polluted cities in the world.\n",
      "\n",
      "15 Cold nights and warm days caused the warmer layer of air to trap car emissions.\n",
      "\n",
      "16 Diesel fuel was blamed, since France has . . . [a] tax policy that favors diesel over gasoline. Diesels make up 67 percent of vehicles in France, compared to a 53.3 percent average of diesel engines in the rest of Western Europe, according to Reuters.\n",
      "\n",
      "17 Paris typically has more smog than other European capitals . . . [Last] week Paris had 147 micrograms of particulate matter (PM) per cubic meter compared with 114 in Brussels and 79.7 in London, Reuters found.\n",
      "\n",
      "18 Delivery companies complained of lost revenue, while exceptions were made for plug-in cars, hybrids, and cars carrying three or more passengers. Public transit was free of charge from Friday to Monday, according to the BBC.\n",
      "\n",
      "19 The smog cleared enough Monday for the ruling French party to rescind the ban for oddnumbered plates on Tuesday. 1\n",
      "\n",
      "Excerpt from “Paris bans driving due to smog” by Robert Duffer, from the Chicago Tribune. Copyright © 2014 by the Chicago Tribune. Reprinted by permission of the Chicago Tribune via Copyright Clearance Center.\n",
      "\n",
      "# Car-free day is spinning into a big hit in Bogota by Andrew Selsky\n",
      "\n",
      "BOGOTA, Colombia—In a program that’s set to spread to other countries, millions of Colombians hiked, biked, skated or took buses to work during a car-free day yesterday, leaving the streets of this capital city eerily devoid of traffic jams.\n",
      "\n",
      "21 It was the third straight year cars have been banned with only buses and taxis permitted for the Day Without Cars in this capital city of 7 million. The goal is to promote alternative transportation and reduce smog. Violators faced $25 fines.\n",
      "\n",
      "22 The turnout was large, despite gray clouds that dumped occasional rain showers on Bogota.\n",
      "\n",
      "23 “The rain hasn’t stopped people from participating,” said Bogota Mayor Antanas Mockus . . . .\n",
      "\n",
      "24 “It’s a good opportunity to take away stress and lower air pollution,” said businessman Carlos Arturo Plaza as he rode a two-seat bicycle with his wife.\n",
      "\n",
      "25 For the first time, two other Colombian cities, Cali and Valledupar, joined the event.\n",
      "\n",
      "26 Municipal authorities from other countries came to Bogota to see the event and were enthusiastic. “These people are generating a revolutionary change, and this is crossing borders,” said Enrique Riera, the mayor of Asunción, Paraguay. . . .\n",
      "\n",
      "27 The day without cars is part of an improvement campaign that began in Bogota in the mid1990s. It has seen the construction of 118 miles of bicycle paths, the most of any Latin American city, according to Mockus, the city’s mayor.\n",
      "\n",
      "28 Parks and sports centers also have bloomed throughout the city; uneven, pitted sidewalks have been replaced by broad, smooth sidewalks; rush-hour restrictions have dramatically cut traffic; and new restaurants and upscale shopping districts have cropped up.\n",
      "\n",
      "Excerpt from “Car-free day is spinning into a big hit in Bogota” by Andrew Selsky, from the Seattle Times. Copyright © 2002 by the Seattle Times Company. Reprinted by permission of the Seattle Times Company via Copyright Clearance Center.\n",
      "\n",
      "# The End of Car Culture by Elisabeth Rosenthal\n",
      "\n",
      "29 President Obama’s ambitious goals to curb the United States’ greenhouse gas emissions, unveiled last week, will get a fortuitous assist from an incipient1 shift in American behavior: recent studies suggest that Americans are buying fewer cars, driving less and getting fewer licenses as each year goes by.\n",
      "\n",
      "30 That has left researchers pondering a fundamental question: Has America passed peak driving?\n",
      "\n",
      "31 The United States, with its broad expanses and suburban ideals, had long been one of the world’s prime car cultures. It is the birthplace of the Model T; the home of Detroit; the place where Wilson Pickett immortalized “Mustang Sally” . . . .\n",
      "\n",
      "32 But America’s love affair with its vehicles seems to be cooling. When adjusted for population growth, the number of miles driven in the United States peaked in 2005 and dropped steadily thereafter, according to an analysis by Doug Short of Advisor Perspectives, an investment research company. As of April 2013, the number of miles driven per person was nearly 9 percent below the peak and equal to where the country was in January 1995. Part of the explanation certainly lies in the recession, because cash-strapped Americans could not afford new cars, and the unemployed weren’t going to work anyway. But by many measures the decrease in driving preceded the downturn and appears to be persisting now that recovery is under way. The next few years will be telling.\n",
      "\n",
      "33 “What most intrigues me is that rates of car ownership per household and per person started to come down two to three years before the downturn,” said Michael Sivak, who studies the trend and who is a research professor at the University of Michigan’s Transportation Research Institute. “I think that means something more fundamental is going on.”\n",
      "\n",
      "34 If the pattern persists—and many sociologists believe it will—it will have beneficial implications for carbon emissions and the environment, since transportation is the second largest source of America’s emissions, just behind power plants. But it could have negative implications for the car industry. Indeed, companies like Ford and Mercedes are already rebranding themselves “mobility” companies with a broader product range beyond the personal vehicle.\n",
      "\n",
      "35 “Different things are converging which suggest that we are witnessing a long-term cultural shift,” said Mimi Sheller, a sociology professor at Drexel University and director of its Mobilities Research and Policy Center. She cites various factors: the Internet makes telecommuting possible and allows people to feel more connected without driving to meet friends. The renewal of center cities has made the suburbs less appealing and has drawn empty nesters back in. Likewise the rise in cellphones and car-pooling apps has facilitated more flexible commuting arrangements, including the evolution of shared van services for getting to work.\n",
      "\n",
      "36 With all these changes, people who stopped car commuting as a result of the recession may find less reason to resume the habit. . . .\n",
      "\n",
      "37 New York’s new bike-sharing program and its skyrocketing bridge and tunnel tolls reflect those new priorities, as do a proliferation of car-sharing programs across the nation.\n",
      "\n",
      "38 Demographic shifts in the driving population suggest that the trend may accelerate. There has been a large drop in the percentage of 16- to 39-year-olds getting a license, while older people are likely to retain their licenses as they age, Mr. Sivak’s research has found.\n",
      "\n",
      "39 He and I have similar observations about our children. Mine (19 and 21) have not bothered to get a driver’s license, even though they both live in places where one could come in handy. They are interested, but it’s not a priority. They organize their summer jobs and social life around where they can walk or take public transportation or car-pool with friends.\n",
      "\n",
      "40 Mr. Sivak’s son lives in San Francisco and has a car but takes Bay Area Rapid Transit, when he can, even though that often takes longer than driving. “When I was in my 20s and 30s,” Mr. Sivak said, “I was curious about what kind of car people drove, but young people don’t really care. A car is just a means of getting from A to B when BART doesn’t work.”\n",
      "\n",
      "41 A study last year found that driving by young people decreased 23 percent between 2001 and 2009. . . .\n",
      "\n",
      "42 Whether members of the millennial generation will start buying more cars once they have kids to take to soccer practice and school plays remains an open question. But such projections have important business implications, even if car buyers are merely older or buying fewer cars in a lifetime rather than rejecting car culture outright.\n",
      "\n",
      "43 At the Mobile World Congress last year in Barcelona, Spain, Bill Ford, executive chairman of the Ford Motor Company, laid out a business plan for a world in which personal vehicle ownership is impractical or undesirable. He proposed partnering with the telecommunications industry to create cities in which “pedestrian, bicycle, private cars, commercial and public transportation traffic are woven into a connected network to save time, conserve resources, lower emissions and improve safety.”\n",
      "\n",
      "Excerpt from “The End of Car Culture” by Elisabeth Rosenthal, from the New York Times. Copyright © 2013 by the New York Times Company. Reprinted by permission of the New York Times Company via Copyright Clearance Center.\n",
      "\n",
      "1\n",
      "# What Is the Electoral College? by the Office of the Federal Register\n",
      "\n",
      "1 The Electoral College is a process, not a place. The founding fathers established it in the Constitution as a compromise between election of the President by a vote in Congress and election of the President by a popular vote of qualified citizens.\n",
      "\n",
      "2 The Electoral College process consists of the selection of the electors, the meeting of the electors where they vote for President and Vice President, and the counting of the electoral votes by Congress.\n",
      "\n",
      "3 The Electoral College consists of 538 electors. A majority of 270 electoral votes is required to elect the President. Your state’s entitled allotment of electors equals the number of members in its Congressional delegation: one for each member in the House of Representatives plus two for your Senators. . . .\n",
      "\n",
      "4 Under the 23rd Amendment of the Constitution, the District of Columbia is allocated 3 electors and treated like a state for purposes of the Electoral College. For this reason, in the following discussion, the word “state” also refers to the District of Columbia.\n",
      "\n",
      "5 Each candidate running for President in your state has his or her own group of electors. The electors are generally chosen by the candidate’s political party, but state laws vary on how the electors are selected and what their responsibilities are. . . .\n",
      "\n",
      "6 The presidential election is held every four years on the Tuesday after the first Monday in November. You help choose your state’s electors when you vote for President because when you vote for your candidate you are actually voting for your candidate’s electors.\n",
      "\n",
      "7 Most states have a “winner-take-all” system that awards all electors to the winning presidential candidate. However, Maine and Nebraska each have a variation of “proportional representation.” . . .\n",
      "\n",
      "8 After the presidential election, your governor prepares a “Certificate of Ascertainment” listing all of the candidates who ran for President in your state along with the names of their respective electors. The Certificate of Ascertainment also declares the winning presidential candidate in your state and shows which electors will represent your state at the meeting of the electors in December of the election year. Your state’s Certificates of Ascertainments are sent to the Congress and the National Archives as part of the official records of the presidential election.\n",
      "\n",
      "# The Indefensible Electoral College: Why even the best-laid defenses of the system are wrong by Bradford Plumer\n",
      "\n",
      "9 What have Richard Nixon, Jimmy Carter, Bob Dole, the U.S. Chamber of Commerce, and the AFL-CIO all, in their time, agreed on? Answer: Abolishing the electoral college! They’re not alone; according to a Gallup poll in 2000, taken shortly after Al Gore—thanks to the quirks of the electoral college—won the popular vote but lost the presidency,1 over 60 percent of voters would prefer a direct election to the kind we have now. This year voters can expect another close election in which the popular vote winner could again lose the presidency. And yet, the electoral college still has its defenders. What gives? . . . What’s wrong with the electoral college\n",
      "\n",
      "10 Under the electoral college system, voters vote not for the president, but for a slate of electors, who in turn elect the president. If you lived in Texas, for instance, and wanted to vote for John Kerry, you’d vote for a slate of 34 Democratic electors pledged to Kerry. On the offchance that those electors won the statewide election, they would go to Congress and Kerry would get 34 electoral votes. Who are the electors? They can be anyone not holding public office. Who picks the electors in the first place? It depends on the state. Sometimes state conventions, sometimes the state party’s central committee, sometimes the presidential candidates themselves. Can voters control whom their electors vote for? Not always. Do voters sometimes get confused about the electors and vote for the wrong candidate? Sometimes.\n",
      "\n",
      "11 The single best argument against the electoral college is what we might call the disaster factor. The American people should consider themselves lucky that the 2000 fiasco was the biggest election crisis in a century; the system allows for much worse. Consider that state legislatures are technically responsible for picking electors, and that those electors could always defy the will of the people. Back in 1960, segregationists in the Louisiana legislature nearly succeeded in replacing the Democratic electors with new electors who would oppose John F. Kennedy. (So that a popular vote for Kennedy would not have actually gone to Kennedy.) In the same vein, “faithless” electors have occasionally refused to vote for their party’s candidate and cast a deciding vote for whomever they please. . . . Oh, and what if a state sends two slates of electors to Congress? It happened in Hawaii in 1960. Luckily, Vice President Richard Nixon, who was presiding over the Senate, validated only his opponent’s electors, but he made sure to do so “without establishing a precedent.” What if it happened again?\n",
      "\n",
      "12 Perhaps most worrying is the prospect of a tie in the electoral vote. In that case, the election would be thrown to the House of Representatives, where state delegations vote on the president. (The Senate would choose the vice-president.) Because each state casts only one vote, the single representative from Wyoming, representing 500,000 voters, would have as much say as the 55 representatives from California, who represent 35 million voters. Given that many voters vote one party for president and another for Congress, the House’s selection can hardly be expected to reflect the will of the people. And if an electoral tie seems unlikely, consider this: In 1968, a shift of just 41,971 votes would have deadlocked the election; In 1976, a tie would have occurred if a mere 5,559 voters in Ohio and 3,687 voters in Hawaii had voted the other way. The election is only a few swing voters away from catastrophe.\n",
      "\n",
      "13 At the most basic level, the electoral college is unfair to voters. Because of the winner-takeall system in each state, candidates don't spend time in states they know they have no chance of winning, focusing only on the tight races in the “swing” states. During the 2000 campaign, seventeen states didn’t see the candidates at all, including Rhode Island and South Carolina, and voters in 25 of the largest media markets didn’t get to see a single campaign ad. If anyone has a good argument for putting the fate of the presidency in the hands of a few swing voters in Ohio, they have yet to make it. . . .\n",
      "\n",
      "14 It’s official: The electoral college is unfair, outdated, and irrational. The best arguments in favor of it are mostly assertions without much basis in reality. And the arguments against direct elections are spurious at best. It’s hard to say this, but Bob Dole was right: Abolish the electoral college!\n",
      "\n",
      "# In Defense of the Electoral College: Five reasons to keep our despised method of choosing the President by Judge Richard A. Posner\n",
      "\n",
      "15 The Electoral College is widely regarded as an anachronism,1 a non-democratic method of selecting a president that ought to be overruled by declaring the candidate who receives the most popular votes the winner. The advocates of this position are correct in arguing that the Electoral College method is not democratic in a modern sense . . . it is the electors who elect the president, not the people. When you vote for a presidential candidate you’re actually voting for a slate of electors.\n",
      "\n",
      "16 But each party selects a slate of electors trusted to vote for the party’s nominee (and that trust is rarely betrayed) . . . however, it is entirely possible that the winner of the electoral vote will not win the national popular vote. Yet that has happened very rarely. It happened in 2000, when Gore had more popular votes than Bush yet fewer electoral votes, but that was the first time since 1888.\n",
      "\n",
      "17 There are five reasons for retaining the Electoral College despite its lack of democratic pedigree;2 all are practical reasons, not liberal or conservative3 reasons.\n",
      "\n",
      "## 1) Certainty of Outcome\n",
      "\n",
      "18 A dispute over the outcome of an Electoral College vote is possible—--it happened in 2000--—but it’s less likely than a dispute over the popular vote. The reason is that the winning candidate’s share of the Electoral College invariably exceeds his share of the popular vote. In 2012’s election, for example, Obama4 received 61.7 percent of the electoral vote compared to only 51.3 percent of the popular votes cast for him and Romney.5 . . . Because almost all states award electoral votes on a winner-take-all basis, even a very slight plurality6 in a state creates a landslide electoral-vote victory in that state. A tie in the nationwide electoral vote is possible because the total number of votes—--538—--is an even number, but it is highly unlikely. . . .\n",
      "\n",
      "## 2) Everyone’s President\n",
      "\n",
      "19 The Electoral College requires a presidential candidate to have trans-regional appeal. No region (South, Northeast, etc.) has enough electoral votes to elect a president. So a solid regional favorite, such as Romney was in the South, has no incentive to campaign heavily in those states, for he gains no electoral votes by increasing his plurality in states that he knows he will win. This is a desirable result because a candidate with only regional appeal is unlikely to be a successful president. The residents of the other regions are likely to feel disenfranchised—to feel that their votes do not count, that the new president will have no regard for their interests, that he really isn’t their president.\n",
      "\n",
      "## 3) Swing States\n",
      "\n",
      "20 The winner-take-all method of awarding electoral votes induces the candidates—as we saw in 2012’s election—to focus their campaign efforts on the toss-up states . . . . Voters in toss-up states are more likely to pay close attention to the campaign—to really listen to the competing candidates—knowing that they are going to decide the election. They are likely to be the most thoughtful voters, on average (and for the further reason that they will have received the most information and attention from the candidates), and the most thoughtful voters should be the ones to decide the election.\n",
      "\n",
      "## 4) Big States\n",
      "\n",
      "21 The Electoral College restores some of the weight in the political balance that large states (by population) lose by virtue of the mal-apportionment of the Senate decreed in the Constitution. . . . The popular vote was very close in Florida in 2012; nevertheless Obama, who won that vote, got 29 electoral votes. A victory by the same margin in Wyoming would net the winner only 3 electoral votes. So, other things being equal, a large state gets more attention from presidential candidates in a campaign than a small state does. . . .\n",
      "\n",
      "## 5) Avoid Run-Off Elections\n",
      "\n",
      "22 The Electoral College avoids the problem of elections in which no candidate receives a majority of the votes cast. For example, Nixon in 1968 and Clinton in 1992 both had only a 43 percent plurality of the popular votes, while winning a majority in the Electoral College (301 and 370 electoral votes, respectively). There is pressure for run-off elections when no candidate wins a majority of the votes cast; that pressure, which would greatly complicate the presidential election process, is reduced by the Electoral College, which invariably produces a clear winner. . . .\n",
      "\n",
      "23 It can be argued that the Electoral College method of selecting the president may turn off potential voters for a candidate who has no hope of carrying their state—Democrats in Texas, for example, or Republicans in California. Knowing their vote will have no effect, they have less incentive to pay attention to the campaign than they would have if the president were picked by popular vote . . . . But of course no voter’s vote swings a national election, and in spite of that, about one-half the eligible American population did vote in 2012’s election. Voters in presidential elections are people who want to express a political preference rather than people who think that a single vote may decide an election. . . .\n",
      "\n"
     ]
    }
   ],
   "source": [
    "print(0)\n",
    "print(train_prompts['source_text'][0])\n",
    "print(1)\n",
    "print(train_prompts['source_text'][1])"
   ]
  },
  {
   "cell_type": "code",
   "execution_count": 9,
   "id": "4048446b",
   "metadata": {
    "execution": {
     "iopub.execute_input": "2023-12-03T04:23:59.562613Z",
     "iopub.status.busy": "2023-12-03T04:23:59.561952Z",
     "iopub.status.idle": "2023-12-03T04:23:59.569815Z",
     "shell.execute_reply": "2023-12-03T04:23:59.568407Z"
    },
    "papermill": {
     "duration": 0.019822,
     "end_time": "2023-12-03T04:23:59.572417",
     "exception": false,
     "start_time": "2023-12-03T04:23:59.552595",
     "status": "completed"
    },
    "tags": []
   },
   "outputs": [
    {
     "name": "stdout",
     "output_type": "stream",
     "text": [
      "(3, 3)\n",
      "         id  prompt_id          text\n",
      "0  0000aaaa          2  Aaa bbb ccc.\n",
      "1  1111bbbb          3  Bbb ccc ddd.\n",
      "2  2222cccc          4  CCC ddd eee.\n"
     ]
    }
   ],
   "source": [
    "df_desc(test_essays)"
   ]
  },
  {
   "cell_type": "code",
   "execution_count": 10,
   "id": "65828520",
   "metadata": {
    "execution": {
     "iopub.execute_input": "2023-12-03T04:23:59.591063Z",
     "iopub.status.busy": "2023-12-03T04:23:59.590121Z",
     "iopub.status.idle": "2023-12-03T04:23:59.598624Z",
     "shell.execute_reply": "2023-12-03T04:23:59.597359Z"
    },
    "papermill": {
     "duration": 0.022574,
     "end_time": "2023-12-03T04:23:59.602807",
     "exception": false,
     "start_time": "2023-12-03T04:23:59.580233",
     "status": "completed"
    },
    "tags": []
   },
   "outputs": [
    {
     "name": "stdout",
     "output_type": "stream",
     "text": [
      "(1378, 4)\n",
      "         id  prompt_id                                               text  \\\n",
      "0  0059830c          0  Cars. Cars have been around since they became ...   \n",
      "1  005db917          0  Transportation is a large necessity in most co...   \n",
      "2  008f63e3          0  \"America's love affair with it's vehicles seem...   \n",
      "3  00940276          0  How often do you ride in a car? Do you drive a...   \n",
      "4  00c39458          0  Cars are a wonderful thing. They are perhaps o...   \n",
      "\n",
      "   generated  \n",
      "0          0  \n",
      "1          0  \n",
      "2          0  \n",
      "3          0  \n",
      "4          0  \n"
     ]
    }
   ],
   "source": [
    "df_desc(train_essays)"
   ]
  },
  {
   "cell_type": "code",
   "execution_count": 11,
   "id": "b1b49f73",
   "metadata": {
    "execution": {
     "iopub.execute_input": "2023-12-03T04:23:59.621110Z",
     "iopub.status.busy": "2023-12-03T04:23:59.620712Z",
     "iopub.status.idle": "2023-12-03T04:23:59.638071Z",
     "shell.execute_reply": "2023-12-03T04:23:59.636906Z"
    },
    "papermill": {
     "duration": 0.029338,
     "end_time": "2023-12-03T04:23:59.640607",
     "exception": false,
     "start_time": "2023-12-03T04:23:59.611269",
     "status": "completed"
    },
    "tags": []
   },
   "outputs": [
    {
     "name": "stdout",
     "output_type": "stream",
     "text": [
      "prompt_id\n",
      "0    0.513788\n",
      "1    0.486212\n",
      "Name: id, dtype: float64\n",
      "generated\n",
      "0    0.997823\n",
      "1    0.002177\n",
      "Name: id, dtype: float64\n"
     ]
    }
   ],
   "source": [
    "# What percentage of each is 0 or q?\n",
    "\n",
    "print(train_essays.groupby('prompt_id').id.nunique()/train_essays.shape[0])\n",
    "\n",
    "print(train_essays.groupby('generated').id.nunique()/train_essays.shape[0])"
   ]
  },
  {
   "cell_type": "code",
   "execution_count": 12,
   "id": "b016b784",
   "metadata": {
    "execution": {
     "iopub.execute_input": "2023-12-03T04:23:59.659035Z",
     "iopub.status.busy": "2023-12-03T04:23:59.658209Z",
     "iopub.status.idle": "2023-12-03T04:23:59.666684Z",
     "shell.execute_reply": "2023-12-03T04:23:59.665613Z"
    },
    "papermill": {
     "duration": 0.02038,
     "end_time": "2023-12-03T04:23:59.668994",
     "exception": false,
     "start_time": "2023-12-03T04:23:59.648614",
     "status": "completed"
    },
    "tags": []
   },
   "outputs": [
    {
     "data": {
      "text/plain": [
       "'Cars. Cars have been around since they became famous in the 1900s, when Henry Ford created and built the first ModelT. Cars have played a major role in our every day lives since then. But now, people are starting to question if limiting car usage would be a good thing. To me, limiting the use of cars might be a good thing to do.\\n\\nIn like matter of this, article, \"In German Suburb, Life Goes On Without Cars,\" by Elizabeth Rosenthal states, how automobiles are the linchpin of suburbs, where middle class families from either Shanghai or Chicago tend to make their homes. Experts say how this is a huge impediment to current efforts to reduce greenhouse gas emissions from tailpipe. Passenger cars are responsible for 12 percent of greenhouse gas emissions in Europe...and up to 50 percent in some carintensive areas in the United States. Cars are the main reason for the greenhouse gas emissions because of a lot of people driving them around all the time getting where they need to go. Article, \"Paris bans driving due to smog,\" by Robert Duffer says, how Paris, after days of nearrecord pollution, enforced a partial driving ban to clear the air of the global city. It also says, how on Monday, motorist with evennumbered license plates were ordered to leave their cars at home or be fined a 22euro fine 31. The same order would be applied to oddnumbered plates the following day. Cars are the reason for polluting entire cities like Paris. This shows how bad cars can be because, of all the pollution that they can cause to an entire city.\\n\\nLikewise, in the article, \"Carfree day is spinning into a big hit in Bogota,\" by Andrew Selsky says, how programs that\\'s set to spread to other countries, millions of Columbians hiked, biked, skated, or took the bus to work during a carfree day, leaving streets of this capital city eerily devoid of traffic jams. It was the third straight year cars have been banned with only buses and taxis permitted for the Day Without Cars in the capital city of 7 million. People like the idea of having carfree days because, it allows them to lesson the pollution that cars put out of their exhaust from people driving all the time. The article also tells how parks and sports centers have bustled throughout the city uneven, pitted sidewalks have been replaced by broad, smooth sidewalks rushhour restrictions have dramatically cut traffic and new restaurants and upscale shopping districts have cropped up. Having no cars has been good for the country of Columbia because, it has aloud them to repair things that have needed repairs for a long time, traffic jams have gone down, and restaurants and shopping districts have popped up, all due to the fact of having less cars around.\\n\\nIn conclusion, the use of less cars and having carfree days, have had a big impact on the environment of cities because, it is cutting down the air pollution that the cars have majorly polluted, it has aloud countries like Columbia to repair sidewalks, and cut down traffic jams. Limiting the use of cars would be a good thing for America. So we should limit the use of cars by maybe riding a bike, or maybe walking somewhere that isn\\'t that far from you and doesn\\'t need the use of a car to get you there. To me, limiting the use of cars might be a good thing to do.'"
      ]
     },
     "execution_count": 12,
     "metadata": {},
     "output_type": "execute_result"
    }
   ],
   "source": [
    "train_essays['text'][0]"
   ]
  },
  {
   "cell_type": "code",
   "execution_count": 13,
   "id": "0451886d",
   "metadata": {
    "execution": {
     "iopub.execute_input": "2023-12-03T04:23:59.687314Z",
     "iopub.status.busy": "2023-12-03T04:23:59.686882Z",
     "iopub.status.idle": "2023-12-03T04:23:59.693807Z",
     "shell.execute_reply": "2023-12-03T04:23:59.692724Z"
    },
    "papermill": {
     "duration": 0.019598,
     "end_time": "2023-12-03T04:23:59.696667",
     "exception": false,
     "start_time": "2023-12-03T04:23:59.677069",
     "status": "completed"
    },
    "tags": []
   },
   "outputs": [
    {
     "data": {
      "text/plain": [
       "'Since remotely times, the manhad look for some way to make his life easier, since primitive hunting weapons, to carriages. The carriages were pulled by horses mostly, and on those times, the most that those animals could do for contamination was pooping but the owners had people to clean for it as well assomeone who took care of it. While the times had change, the transportation media has too as well with the cars which it actually result to be a doble sided bladecontaminating with smog.\\n\\nIn Paris the government has banned driving due to smog, the smog has caused a huge impact on this city, giving to it cooler nights and warmer days, many habitats blame Diesel fuel, but it does not matter which fuel you would use, it would burn and produce smog anyways. On the other hand,Vauban, Germany, is offering a new life style that many people has decided to adopt the suburbian community has no cars at the streets, people there does not own a carbecause they do not need it, the public transportation works very well, so it is not a primary need. They can live perfectlywithout cars, then they are not that necessary. Many people even sell their cars in order to move to Vauban, and had said that their lifes are so much less stressful than when they did own a car. Mothers can let their childrens to play in the streets without thinking that a car is going to kill them, and kids can let go technology if their moms want them to play outside most of the kids are so attached to technology because it is a way that parents have to keep them away from the streets. Maybe these changes like in Germany were too radicals, but it can start by a day a year like in Bogot, Colombia where once a year people take a carfree day, being buses and taxis the only ones allowed to produce smog, the violators are charged with 25 dollars fines. Even in the U.S., from 2003 to 2009 young people driving decreased a 23%, young people are considered the most dangerous driving people. There is so much for young people to do that they are not focused on driving, this could be the beginning of a new era, in April 2013 the number of miles per person was equal that in 1995 where the cars where less than right now. There it is even a program in New York promoting carpooling!\\n\\nBut for example, here in Florida the public transportation is not that good, you actually need a car that drives you to the bus station and then take the bus a bus that will let you on a train station, that train station will offer you a ride of an hour to another bus that takes about half an hour to get to your job if you live in Homestead and work in Miami. That is about three hours just arriving to your job, every day for five days in a row that is about thirty hours a week, just to get to your job! But if you have a car, those three hours now are one hour, which seems reasonable and it is still a lot!. If someone lives at Homestead and needs to do something which is generally at downtown Miami or Doral you would have to dedicate a whole day just doing it, if you are going in car because the distance between cities are ridiculous, can you imagine if not having it? For doing something you would have to take two days and do it by parts or wake up at the very morning when it is still dark so you can complete everything by the afternoon. So defenetly the car is a primary need.\\n\\nAnalyzing the life style that people at Vauban have, they are less stressed thanthe average personwhoowns a carpeople starts to be more social with their neighbors because they have to walk everywhere and the faces are the same, so they actually get to know each other. They also got the benefit of a cleaner enviroment because they do not have the daily doses of smog that someone living in a city would have cars cause the 12% of the contamination in Europe and more than a 50% in the United States. That is a problem that Paris maybe would not be facing right now if they had payed attention to contamination levels.Since World War II, science has been centered on developing new and better cars can you imagine what would we have right now if some other would center the science in medicicne or something else?. In the United States an 80% of the budget goes to highways while just a 20% goes to public transportation. But, how can people in Bogot or Vauben survive without cars? The distance between the comercial and suburban areas are close enough so a bus could take you there just one bus. Defenetly, making the change would be hard due to our attachment to our cars, but little by little we can change or life style.'"
      ]
     },
     "execution_count": 13,
     "metadata": {},
     "output_type": "execute_result"
    }
   ],
   "source": [
    "train_essays['text'][50]"
   ]
  },
  {
   "cell_type": "code",
   "execution_count": 14,
   "id": "05f1dac1",
   "metadata": {
    "execution": {
     "iopub.execute_input": "2023-12-03T04:23:59.715202Z",
     "iopub.status.busy": "2023-12-03T04:23:59.714809Z",
     "iopub.status.idle": "2023-12-03T04:23:59.732024Z",
     "shell.execute_reply": "2023-12-03T04:23:59.730777Z"
    },
    "papermill": {
     "duration": 0.029732,
     "end_time": "2023-12-03T04:23:59.734634",
     "exception": false,
     "start_time": "2023-12-03T04:23:59.704902",
     "status": "completed"
    },
    "tags": []
   },
   "outputs": [
    {
     "data": {
      "text/html": [
       "<div>\n",
       "<style scoped>\n",
       "    .dataframe tbody tr th:only-of-type {\n",
       "        vertical-align: middle;\n",
       "    }\n",
       "\n",
       "    .dataframe tbody tr th {\n",
       "        vertical-align: top;\n",
       "    }\n",
       "\n",
       "    .dataframe thead th {\n",
       "        text-align: right;\n",
       "    }\n",
       "</style>\n",
       "<table border=\"1\" class=\"dataframe\">\n",
       "  <thead>\n",
       "    <tr style=\"text-align: right;\">\n",
       "      <th></th>\n",
       "      <th>id</th>\n",
       "      <th>prompt_id</th>\n",
       "      <th>text</th>\n",
       "      <th>generated</th>\n",
       "    </tr>\n",
       "  </thead>\n",
       "  <tbody>\n",
       "    <tr>\n",
       "      <th>704</th>\n",
       "      <td>82131f68</td>\n",
       "      <td>1</td>\n",
       "      <td>This essay will analyze, discuss and prove one...</td>\n",
       "      <td>1</td>\n",
       "    </tr>\n",
       "    <tr>\n",
       "      <th>740</th>\n",
       "      <td>86fe4f18</td>\n",
       "      <td>1</td>\n",
       "      <td>I strongly believe that the Electoral College ...</td>\n",
       "      <td>1</td>\n",
       "    </tr>\n",
       "    <tr>\n",
       "      <th>1262</th>\n",
       "      <td>eafb8a56</td>\n",
       "      <td>0</td>\n",
       "      <td>Limiting car use causes pollution, increases c...</td>\n",
       "      <td>1</td>\n",
       "    </tr>\n",
       "  </tbody>\n",
       "</table>\n",
       "</div>"
      ],
      "text/plain": [
       "            id  prompt_id                                               text  \\\n",
       "704   82131f68          1  This essay will analyze, discuss and prove one...   \n",
       "740   86fe4f18          1  I strongly believe that the Electoral College ...   \n",
       "1262  eafb8a56          0  Limiting car use causes pollution, increases c...   \n",
       "\n",
       "      generated  \n",
       "704           1  \n",
       "740           1  \n",
       "1262          1  "
      ]
     },
     "execution_count": 14,
     "metadata": {},
     "output_type": "execute_result"
    }
   ],
   "source": [
    "train_essays[train_essays['generated'] == 1]"
   ]
  },
  {
   "cell_type": "code",
   "execution_count": 15,
   "id": "daeb7dd3",
   "metadata": {
    "execution": {
     "iopub.execute_input": "2023-12-03T04:23:59.754535Z",
     "iopub.status.busy": "2023-12-03T04:23:59.754104Z",
     "iopub.status.idle": "2023-12-03T04:23:59.759753Z",
     "shell.execute_reply": "2023-12-03T04:23:59.758561Z"
    },
    "papermill": {
     "duration": 0.019032,
     "end_time": "2023-12-03T04:23:59.762909",
     "exception": false,
     "start_time": "2023-12-03T04:23:59.743877",
     "status": "completed"
    },
    "tags": []
   },
   "outputs": [
    {
     "name": "stdout",
     "output_type": "stream",
     "text": [
      "This essay will analyze, discuss and prove one reason in favor of keeping the Electoral College in the United States for its presidential elections. One of the reasons to keep the electoral college is that it is better for smaller, more rural states to have more influence as opposed to larger metropolitan areas that have large populations. The electors from these states are granted two votes each. Those from larger, more populated areas are granted just one vote each. Smaller states tend to hold significant power because their two votes for president and vice president add up more than the votes of larger states that have many electors. This is because of the split of the electoral votes. Some argue that electors are not bound to vote for the candidate who won the most votes nationally. They do not have to vote for their own state's nominee unless their state has a winner take all system. However, there are states that have adopted laws that force their electors to vote for their state's candidate. It seems that, no matter how, electors are not bound to vote for the candidate who won the most nationally. This is not always the case because of state legislatures who can overrule the electors and vote for the alternative candidate their citizens have selected for them, even if the voter lives in a state without a winner take all system.\n"
     ]
    }
   ],
   "source": [
    "print(train_essays['text'][704])"
   ]
  },
  {
   "cell_type": "code",
   "execution_count": 16,
   "id": "4b777329",
   "metadata": {
    "execution": {
     "iopub.execute_input": "2023-12-03T04:23:59.782784Z",
     "iopub.status.busy": "2023-12-03T04:23:59.782398Z",
     "iopub.status.idle": "2023-12-03T04:23:59.787790Z",
     "shell.execute_reply": "2023-12-03T04:23:59.786721Z"
    },
    "papermill": {
     "duration": 0.0189,
     "end_time": "2023-12-03T04:23:59.790802",
     "exception": false,
     "start_time": "2023-12-03T04:23:59.771902",
     "status": "completed"
    },
    "tags": []
   },
   "outputs": [
    {
     "name": "stdout",
     "output_type": "stream",
     "text": [
      "I strongly believe that the Electoral College should remain the way it is or, better yet, that we should elect the president by popular vote. This is due to the fact that the Electoral College does not accurately reflect the will of the people. For example, in the 2016 presidential election, an estimated two million more people voted for Hillary Clinton than for Donald Trump however, Trump won the Electoral College vote, 304 to 232. This means that a candidate can win a majority of the Electoral College voters while losing the popular vote! Furthermore, voting for President should be an individual citizen decision, not a state decision. The Electoral College works by awarding all of a state's electoral votes to the winner of the majority of votes in the state. This means that a candidate can win the majority of votes in a state and still not receive any of that states electoral votes. This goes against the concept of onepersononevote, since a candidate can win the majority of votes in a state and still not win any electoral votes. By eliminating the Electoral College and electing the president by popular vote, the votes of every individual will be counted, and the candidate who wins the most votes nationally will win the election. In conclusion, the Electoral College does not reflect the will of the people and votes in state are not equally weighted. It is time to elect the president by popular vote and to finally give the votes of individual citizens the weight they deserve.\n"
     ]
    }
   ],
   "source": [
    "print(train_essays['text'][740])"
   ]
  },
  {
   "cell_type": "code",
   "execution_count": 17,
   "id": "7c07eba2",
   "metadata": {
    "execution": {
     "iopub.execute_input": "2023-12-03T04:23:59.810802Z",
     "iopub.status.busy": "2023-12-03T04:23:59.810416Z",
     "iopub.status.idle": "2023-12-03T04:23:59.816054Z",
     "shell.execute_reply": "2023-12-03T04:23:59.814852Z"
    },
    "papermill": {
     "duration": 0.019322,
     "end_time": "2023-12-03T04:23:59.819122",
     "exception": false,
     "start_time": "2023-12-03T04:23:59.799800",
     "status": "completed"
    },
    "tags": []
   },
   "outputs": [
    {
     "name": "stdout",
     "output_type": "stream",
     "text": [
      "Limiting car use causes pollution, increases costs to users regardless of where services or services are offered. Furthermore, over use of the gas results in increased environmental degradation, harming our resources while damaging our environment.\n",
      "\n",
      "When consumers pay a larger amount before gasoline is refined then there are higher costs of running the engine than otherwise. There are fewer places where the gas can be purchased locally causing more problems. Car trips will usually have higher tolls which results in lost wages for the transportation worker, who goes to an unnecessary location for work and then returns home and gets to pay back his transportation back costs. The car accident rate amongst children also has increased. Car pollution can become airborne easily, contaminating children's health. Also children tend to be more careless and more often in accidents simply because of being pushed out of their cars onto the road. All of this can be done to better an already polluted Earth that is becoming increasingly damaged at a much faster rate. Limiting our vehicle use helps our citizens with a reduced budget. It also reduces pollution for local areas. Furthermore, it improves public health and makes city dwellers a wealthier society.\n",
      "\n",
      "Limiting our own usage by adopting public transportation, walking, biking, and public transport actually would be beneficial for the citizens and planet. I think its very healthy but very little others show similar sentiment mostly environmental activists who want a more environmentally clean place so it often is still looked down upon it still will bring about a very drastic price eventually but there will never be carbon credit trading or an oil recycling scheme unless people want it too. Limiting car use is good for the city.\n"
     ]
    }
   ],
   "source": [
    "print(train_essays['text'][1262])"
   ]
  }
 ],
 "metadata": {
  "kaggle": {
   "accelerator": "none",
   "dataSources": [
    {
     "databundleVersionId": 6888007,
     "sourceId": 61542,
     "sourceType": "competition"
    },
    {
     "datasetId": 4083706,
     "sourceId": 7087549,
     "sourceType": "datasetVersion"
    }
   ],
   "dockerImageVersionId": 30587,
   "isGpuEnabled": false,
   "isInternetEnabled": true,
   "language": "python",
   "sourceType": "notebook"
  },
  "kernelspec": {
   "display_name": "Python 3",
   "language": "python",
   "name": "python3"
  },
  "language_info": {
   "codemirror_mode": {
    "name": "ipython",
    "version": 3
   },
   "file_extension": ".py",
   "mimetype": "text/x-python",
   "name": "python",
   "nbconvert_exporter": "python",
   "pygments_lexer": "ipython3",
   "version": "3.10.12"
  },
  "papermill": {
   "default_parameters": {},
   "duration": 9.471617,
   "end_time": "2023-12-03T04:24:02.745453",
   "environment_variables": {},
   "exception": null,
   "input_path": "__notebook__.ipynb",
   "output_path": "__notebook__.ipynb",
   "parameters": {},
   "start_time": "2023-12-03T04:23:53.273836",
   "version": "2.4.0"
  }
 },
 "nbformat": 4,
 "nbformat_minor": 5
}
